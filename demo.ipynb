{
 "cells": [
  {
   "cell_type": "code",
   "execution_count": null,
   "id": "307da3b6-5942-49b0-8ed5-41342c5103a3",
   "metadata": {},
   "outputs": [],
   "source": [
    "import argparse\n",
    "import os.path as osp\n",
    "from tqdm import tqdm\n",
    "import numpy as np\n",
    "import torch\n",
    "from PIL import Image\n",
    "import matplotlib.pyplot as plt\n",
    "from models.slic_vit import SLICViT\n",
    "from models.ss_baseline import SSBaseline\n",
    "from models.resnet_high_res import ResNetHighRes\n",
    "from utils.zsg_data import FlickrDataset, VGDataset\n",
    "from utils.grounding_evaluator import GroundingEvaluator"
   ]
  },
  {
   "cell_type": "code",
   "execution_count": null,
   "id": "b9518efc-ef55-43ed-ac5b-55fbbe2559c7",
   "metadata": {},
   "outputs": [],
   "source": [
    "args = {\n",
    "    'model': 'RN50',\n",
    "    'alpha': 0.8,\n",
    "    'temperature': 0.01,\n",
    "}\n",
    "model = ResNetHighRes(**args).cuda()"
   ]
  },
  {
   "cell_type": "code",
   "execution_count": null,
   "id": "abeb06c9-0fb7-4b98-8ec3-a700c70441eb",
   "metadata": {},
   "outputs": [],
   "source": [
    "im_dir = 'datasets/CUB_200_2011/images/200.Common_Yellowthroat/Common_Yellowthroat_0045_190563.jpg'\n",
    "im = Image.open(im_dir)\n",
    "im"
   ]
  },
  {
   "cell_type": "code",
   "execution_count": null,
   "id": "92be734b-f160-407b-a247-86f7adddbd47",
   "metadata": {},
   "outputs": [],
   "source": [
    "im = np.array(im)\n",
    "text = 'a photo of yellow bird'\n",
    "im_processed, bbox_pred, score_map = model(im, text)\n",
    "plt.imshow(score_map)"
   ]
  },
  {
   "cell_type": "code",
   "execution_count": null,
   "id": "8b2f21be-15e9-4fcc-ab31-db1534dc9602",
   "metadata": {},
   "outputs": [],
   "source": [
    "plt.imshow(im_processed.cpu().squeeze(0).permute(1,2,0).numpy())"
   ]
  },
  {
   "cell_type": "code",
   "execution_count": null,
   "id": "ed557b61-8d42-4fa2-bcfe-ae6d4d990b95",
   "metadata": {},
   "outputs": [],
   "source": [
    "im = np.array(im)\n",
    "text = 'white tree branch'\n",
    "im_processed, bbox_pred, score_map = model(im, text)\n",
    "plt.imshow(score_map)"
   ]
  },
  {
   "cell_type": "code",
   "execution_count": null,
   "id": "b8dd00a3-4b00-4e16-ace7-602791fc0555",
   "metadata": {},
   "outputs": [],
   "source": [
    "im = np.array(im)\n",
    "text = 'black bird beak'\n",
    "im_processed, bbox_pred, score_map = model(im, text)\n",
    "plt.imshow(score_map)"
   ]
  },
  {
   "cell_type": "code",
   "execution_count": null,
   "id": "b2bb8a80-e318-4daf-aa34-278da7016297",
   "metadata": {},
   "outputs": [],
   "source": [
    "Image.open(im_dir).resize((224,224))"
   ]
  },
  {
   "cell_type": "code",
   "execution_count": null,
   "id": "f2c209e8-79ad-405e-bdf5-6e4822abb881",
   "metadata": {},
   "outputs": [],
   "source": []
  }
 ],
 "metadata": {
  "kernelspec": {
   "display_name": "Python 3 (ipykernel)",
   "language": "python",
   "name": "python3"
  },
  "language_info": {
   "codemirror_mode": {
    "name": "ipython",
    "version": 3
   },
   "file_extension": ".py",
   "mimetype": "text/x-python",
   "name": "python",
   "nbconvert_exporter": "python",
   "pygments_lexer": "ipython3",
   "version": "3.10.12"
  }
 },
 "nbformat": 4,
 "nbformat_minor": 5
}
